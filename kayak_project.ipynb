{
 "cells": [
  {
   "cell_type": "markdown",
   "metadata": {},
   "source": [
    "# Projet KAYAK"
   ]
  },
  {
   "cell_type": "code",
   "execution_count": 2,
   "metadata": {
    "tags": []
   },
   "outputs": [],
   "source": [
    "#importing libraries to scrape data\n",
    "import os\n",
    "import logging\n",
    "import scrapy\n",
    "from scrapy.crawler import CrawlerProcess"
   ]
  },
  {
   "cell_type": "code",
   "execution_count": 3,
   "metadata": {
    "tags": []
   },
   "outputs": [],
   "source": [
    "#list of cities in France to recommand \n",
    "cities = [\"Mont Saint Michel\", \"St Malo\", \"Bayeux\", \"Le Havre\", \"Rouen\", \"Paris\", \"Amiens\", \"Lille\", \"Strasbourg\",\n",
    "            \"Chateau du Haut Koenigsbourg\", \"Colmar\", \"Eguisheim\", \"Besancon\", \"Dijon\", \"Annecy\", \"Grenoble\", \"Lyon\",\n",
    "            \"Gorges du Verdon\", \"Bormes les Mimosas\", \"Cassis\", \"Marseille\", \"Aix en Provence\", \"Avignon\", \"Uzes\", \"Nimes\",\n",
    "            \"Aigues Mortes\", \"Saintes Maries de la mer\", \"Collioure\", \"Carcassonne\", \"Ariege\", \"Toulouse\", \"Montauban\",\n",
    "            \"Biarritz\", \"Bayonne\", \"La Rochelle\"]"
   ]
  },
  {
   "cell_type": "markdown",
   "metadata": {
    "tags": []
   },
   "source": [
    "### Get the gps coordinates and weather forecast of all the cities with api query "
   ]
  },
  {
   "cell_type": "code",
   "execution_count": 4,
   "metadata": {},
   "outputs": [],
   "source": [
    "import requests\n",
    "from datetime import datetime"
   ]
  },
  {
   "cell_type": "code",
   "execution_count": 5,
   "metadata": {},
   "outputs": [
    {
     "data": {
      "text/plain": [
       "[2.3200410217200766, 48.8588897]"
      ]
     },
     "metadata": {},
     "output_type": "display_data"
    }
   ],
   "source": [
    "# example Paris , France\n",
    "paris_gps = requests.get(\"https://nominatim.openstreetmap.org/search?q=Paris+France&format=geojson\").json()['features'][0]['geometry']['coordinates']\n",
    "display(paris_gps)"
   ]
  },
  {
   "cell_type": "code",
   "execution_count": 6,
   "metadata": {},
   "outputs": [],
   "source": [
    "# getting weather info from api.openweathermap\n",
    "key = \"274c0a55230e8d4d1cb650d6dfd9b351\"\n",
    "r = requests.get(\"https://api.openweathermap.org/data/2.5/onecall?lat={}&lon={}&exclude=current,minutely,hourly,alerts&units=metric&appid={}\".format(paris_gps[1],paris_gps[0], key)).json()"
   ]
  },
  {
   "cell_type": "code",
   "execution_count": 7,
   "metadata": {},
   "outputs": [
    {
     "data": {
      "text/plain": [
       "{'avg day temp': 9.9, 'avg humidity': 66.75, 'avg sunlight in hours': 11.27}"
      ]
     },
     "execution_count": 7,
     "metadata": {},
     "output_type": "execute_result"
    }
   ],
   "source": [
    "#parmaters chosen to calcualte average forcasted weather for each city over the next 7 days\n",
    "weather_params = ['sunrise','sunset','temp','humidity']\n",
    "\n",
    "#create a funtction that request from openweathermap weather forecast data for each city in France given it's gps position\n",
    "def weather_forecast(city):\n",
    "    key = \"274c0a55230e8d4d1cb650d6dfd9b351\"\n",
    "    city_gps = requests.get(\"https://nominatim.openstreetmap.org/search?q={}+France&format=geojson\".format(city)).json()['features'][0]['geometry']['coordinates']\n",
    "    df = pd.DataFrame(columns = ['temp','humidity'])\n",
    "    r = requests.get(\"https://api.openweathermap.org/data/2.5/onecall?lat={}&lon={}&exclude=current,minutely,hourly,alerts&units=metric&appid={}\".format(city_gps[1],city_gps[0], key)).json()\n",
    "    for i in range(8):\n",
    "        r['daily'][i] # get forcast of day i\n",
    "        newDict = {key: value for (key, value) in r['daily'][i].items() if key in weather_params} #keeping only weather param values needed\n",
    "        #adding a new value : duration of sunlight in the day as number of hours\n",
    "        newDict['sunlight duration']=round((newDict['sunset']-newDict['sunrise'])/3600,2)\n",
    "        newDict['temp'] = newDict['temp']['day'] #we choose to keep the avg temperature among all the temp data\n",
    "        del newDict['sunrise']\n",
    "        del newDict['sunset']\n",
    "        df.loc[i,'temp'] = newDict['temp']\n",
    "        df.loc[i,'humidity'] = newDict['humidity']\n",
    "        df.loc[i,'sunlight duration'] = newDict['sunlight duration']\n",
    "    #print(\"weather forecast in : {}\".format(city))\n",
    "    return {'avg day temp' :round(df['temp'].mean(),2), \\\n",
    "            'avg humidity' : round(df['humidity'].mean(),2), \\\n",
    "            'avg sunlight in hours' : round(df['sunlight duration'].mean(),2)}\n",
    "\n",
    "weather_forecast('Mont Saint Michel')"
   ]
  },
  {
   "cell_type": "code",
   "execution_count": null,
   "metadata": {},
   "outputs": [],
   "source": [
    "#getting the data for all french cities with a loop and putting it into a dataframe "
   ]
  },
  {
   "cell_type": "code",
   "execution_count": 9,
   "metadata": {},
   "outputs": [],
   "source": [
    "cities_weather = pd.DataFrame(columns = ['id','city name', 'avg day temp','avg humidity', 'avg sunlight in hours'])\n",
    "for i in range(len(cities)):\n",
    "    cities_weather.loc[i,'city name'] = cities[i]\n",
    "    cities_weather.loc[i,'avg day temp'] = weather_forecast(cities[i])['avg day temp']\n",
    "    cities_weather.loc[i,'avg humidity'] = weather_forecast(cities[i])['avg humidity']\n",
    "    cities_weather.loc[i,'avg sunlight in hours'] = weather_forecast(cities[i])['avg sunlight in hours']\n",
    "    cities_weather.loc[i,'id']=i"
   ]
  },
  {
   "cell_type": "code",
   "execution_count": 10,
   "metadata": {},
   "outputs": [
    {
     "data": {
      "text/html": [
       "<div>\n",
       "<style scoped>\n",
       "    .dataframe tbody tr th:only-of-type {\n",
       "        vertical-align: middle;\n",
       "    }\n",
       "\n",
       "    .dataframe tbody tr th {\n",
       "        vertical-align: top;\n",
       "    }\n",
       "\n",
       "    .dataframe thead th {\n",
       "        text-align: right;\n",
       "    }\n",
       "</style>\n",
       "<table border=\"1\" class=\"dataframe\">\n",
       "  <thead>\n",
       "    <tr style=\"text-align: right;\">\n",
       "      <th></th>\n",
       "      <th>id</th>\n",
       "      <th>city name</th>\n",
       "      <th>avg day temp</th>\n",
       "      <th>avg humidity</th>\n",
       "      <th>avg sunlight in hours</th>\n",
       "    </tr>\n",
       "  </thead>\n",
       "  <tbody>\n",
       "    <tr>\n",
       "      <th>0</th>\n",
       "      <td>0</td>\n",
       "      <td>Mont Saint Michel</td>\n",
       "      <td>9.9</td>\n",
       "      <td>66.75</td>\n",
       "      <td>11.27</td>\n",
       "    </tr>\n",
       "    <tr>\n",
       "      <th>1</th>\n",
       "      <td>1</td>\n",
       "      <td>St Malo</td>\n",
       "      <td>9.15</td>\n",
       "      <td>67.88</td>\n",
       "      <td>11.27</td>\n",
       "    </tr>\n",
       "    <tr>\n",
       "      <th>2</th>\n",
       "      <td>2</td>\n",
       "      <td>Bayeux</td>\n",
       "      <td>9.35</td>\n",
       "      <td>64.5</td>\n",
       "      <td>11.26</td>\n",
       "    </tr>\n",
       "    <tr>\n",
       "      <th>3</th>\n",
       "      <td>3</td>\n",
       "      <td>Le Havre</td>\n",
       "      <td>8.89</td>\n",
       "      <td>62.0</td>\n",
       "      <td>11.25</td>\n",
       "    </tr>\n",
       "    <tr>\n",
       "      <th>4</th>\n",
       "      <td>4</td>\n",
       "      <td>Rouen</td>\n",
       "      <td>9.28</td>\n",
       "      <td>54.62</td>\n",
       "      <td>11.25</td>\n",
       "    </tr>\n",
       "  </tbody>\n",
       "</table>\n",
       "</div>"
      ],
      "text/plain": [
       "  id          city name avg day temp avg humidity avg sunlight in hours\n",
       "0  0  Mont Saint Michel          9.9        66.75                 11.27\n",
       "1  1            St Malo         9.15        67.88                 11.27\n",
       "2  2             Bayeux         9.35         64.5                 11.26\n",
       "3  3           Le Havre         8.89         62.0                 11.25\n",
       "4  4              Rouen         9.28        54.62                 11.25"
      ]
     },
     "execution_count": 10,
     "metadata": {},
     "output_type": "execute_result"
    }
   ],
   "source": [
    "cities_weather.head()"
   ]
  },
  {
   "cell_type": "code",
   "execution_count": 11,
   "metadata": {},
   "outputs": [],
   "source": [
    "cities_weather.to_csv('weather data.csv')"
   ]
  },
  {
   "cell_type": "code",
   "execution_count": 13,
   "metadata": {},
   "outputs": [],
   "source": [
    "#Use plotly to display the best destinations on a map"
   ]
  },
  {
   "cell_type": "markdown",
   "metadata": {},
   "source": [
    "### Get the hotel info of all the cities with booking scarpping"
   ]
  },
  {
   "cell_type": "code",
   "execution_count": 3,
   "metadata": {
    "collapsed": true,
    "jupyter": {
     "outputs_hidden": true
    },
    "tags": []
   },
   "outputs": [
    {
     "name": "stdout",
     "output_type": "stream",
     "text": [
      "Requirement already satisfied: Scrapy in /opt/conda/lib/python3.9/site-packages (2.6.1)\n",
      "Requirement already satisfied: Twisted>=17.9.0 in /opt/conda/lib/python3.9/site-packages (from Scrapy) (22.2.0)\n",
      "Requirement already satisfied: protego>=0.1.15 in /opt/conda/lib/python3.9/site-packages (from Scrapy) (0.2.1)\n",
      "Requirement already satisfied: itemloaders>=1.0.1 in /opt/conda/lib/python3.9/site-packages (from Scrapy) (1.0.4)\n",
      "Requirement already satisfied: lxml>=3.5.0 in /opt/conda/lib/python3.9/site-packages (from Scrapy) (4.8.0)\n",
      "Requirement already satisfied: cryptography>=2.0 in /opt/conda/lib/python3.9/site-packages (from Scrapy) (36.0.1)\n",
      "Requirement already satisfied: cssselect>=0.9.1 in /opt/conda/lib/python3.9/site-packages (from Scrapy) (1.1.0)\n",
      "Requirement already satisfied: tldextract in /opt/conda/lib/python3.9/site-packages (from Scrapy) (3.2.0)\n",
      "Requirement already satisfied: w3lib>=1.17.0 in /opt/conda/lib/python3.9/site-packages (from Scrapy) (1.22.0)\n",
      "Requirement already satisfied: service-identity>=16.0.0 in /opt/conda/lib/python3.9/site-packages (from Scrapy) (21.1.0)\n",
      "Requirement already satisfied: itemadapter>=0.1.0 in /opt/conda/lib/python3.9/site-packages (from Scrapy) (0.4.0)\n",
      "Requirement already satisfied: queuelib>=1.4.2 in /opt/conda/lib/python3.9/site-packages (from Scrapy) (1.6.2)\n",
      "Requirement already satisfied: parsel>=1.5.0 in /opt/conda/lib/python3.9/site-packages (from Scrapy) (1.6.0)\n",
      "Requirement already satisfied: pyOpenSSL>=16.2.0 in /opt/conda/lib/python3.9/site-packages (from Scrapy) (22.0.0)\n",
      "Requirement already satisfied: setuptools in /opt/conda/lib/python3.9/site-packages (from Scrapy) (59.8.0)\n",
      "Requirement already satisfied: zope.interface>=4.1.3 in /opt/conda/lib/python3.9/site-packages (from Scrapy) (5.4.0)\n",
      "Requirement already satisfied: PyDispatcher>=2.0.5 in /opt/conda/lib/python3.9/site-packages (from Scrapy) (2.0.5)\n",
      "Requirement already satisfied: cffi>=1.12 in /opt/conda/lib/python3.9/site-packages (from cryptography>=2.0->Scrapy) (1.15.0)\n",
      "Requirement already satisfied: jmespath>=0.9.5 in /opt/conda/lib/python3.9/site-packages (from itemloaders>=1.0.1->Scrapy) (0.10.0)\n",
      "Requirement already satisfied: six>=1.6.0 in /opt/conda/lib/python3.9/site-packages (from parsel>=1.5.0->Scrapy) (1.16.0)\n",
      "Requirement already satisfied: pyasn1 in /opt/conda/lib/python3.9/site-packages (from service-identity>=16.0.0->Scrapy) (0.4.8)\n",
      "Requirement already satisfied: attrs>=19.1.0 in /opt/conda/lib/python3.9/site-packages (from service-identity>=16.0.0->Scrapy) (21.4.0)\n",
      "Requirement already satisfied: pyasn1-modules in /opt/conda/lib/python3.9/site-packages (from service-identity>=16.0.0->Scrapy) (0.2.8)\n",
      "Requirement already satisfied: constantly>=15.1 in /opt/conda/lib/python3.9/site-packages (from Twisted>=17.9.0->Scrapy) (15.1.0)\n",
      "Requirement already satisfied: incremental>=21.3.0 in /opt/conda/lib/python3.9/site-packages (from Twisted>=17.9.0->Scrapy) (21.3.0)\n",
      "Requirement already satisfied: typing-extensions>=3.6.5 in /opt/conda/lib/python3.9/site-packages (from Twisted>=17.9.0->Scrapy) (4.0.1)\n",
      "Requirement already satisfied: hyperlink>=17.1.1 in /opt/conda/lib/python3.9/site-packages (from Twisted>=17.9.0->Scrapy) (21.0.0)\n",
      "Requirement already satisfied: Automat>=0.8.0 in /opt/conda/lib/python3.9/site-packages (from Twisted>=17.9.0->Scrapy) (20.2.0)\n",
      "Requirement already satisfied: idna in /opt/conda/lib/python3.9/site-packages (from tldextract->Scrapy) (3.3)\n",
      "Requirement already satisfied: requests>=2.1.0 in /opt/conda/lib/python3.9/site-packages (from tldextract->Scrapy) (2.27.1)\n",
      "Requirement already satisfied: filelock>=3.0.8 in /opt/conda/lib/python3.9/site-packages (from tldextract->Scrapy) (3.6.0)\n",
      "Requirement already satisfied: requests-file>=1.4 in /opt/conda/lib/python3.9/site-packages (from tldextract->Scrapy) (1.5.1)\n",
      "Requirement already satisfied: pycparser in /opt/conda/lib/python3.9/site-packages (from cffi>=1.12->cryptography>=2.0->Scrapy) (2.21)\n",
      "Requirement already satisfied: certifi>=2017.4.17 in /opt/conda/lib/python3.9/site-packages (from requests>=2.1.0->tldextract->Scrapy) (2021.10.8)\n",
      "Requirement already satisfied: urllib3<1.27,>=1.21.1 in /opt/conda/lib/python3.9/site-packages (from requests>=2.1.0->tldextract->Scrapy) (1.26.8)\n",
      "Requirement already satisfied: charset-normalizer~=2.0.0 in /opt/conda/lib/python3.9/site-packages (from requests>=2.1.0->tldextract->Scrapy) (2.0.10)\n"
     ]
    }
   ],
   "source": [
    "#installing scrappy\n",
    "!pip install Scrapy"
   ]
  },
  {
   "cell_type": "code",
   "execution_count": 1,
   "metadata": {},
   "outputs": [],
   "source": [
    "import os\n",
    "import logging\n",
    "import scrapy\n",
    "from scrapy.crawler import CrawlerProcess"
   ]
  },
  {
   "cell_type": "code",
   "execution_count": 2,
   "metadata": {},
   "outputs": [],
   "source": [
    "class BookingSpider(scrapy.Spider):\n",
    "    # Name of your spider\n",
    "    name = \"booking\"\n",
    "\n",
    "    # Starting URL\n",
    "    start_urls = ['https://www.booking.com/city/fr/paris.fr.html']\n",
    "\n",
    "    # Parse function for form request\n",
    "    #def parse(self, response):\n",
    "    #    # FormRequest used to make a search in Paris\n",
    "    #    return scrapy.FormRequest.from_response(\n",
    "    #        response,\n",
    "    #        formdata={'find_loc': 'paris'},\n",
    "    #        callback=self.after_search\n",
    "    #    )\n",
    "\n",
    "    # Callback used after login\n",
    "    def after_search(self, response):\n",
    "        \n",
    "        results = response.css('.sr__card')\n",
    "        \n",
    "        for r in results:\n",
    "            yield {\n",
    "                'name': r.css('span.bui-card__title::text').get(),\n",
    "               # 'url': 'https://www.booking.com/hôtels' + r.attrib[\"href\"]\n",
    "               # 'description' : \n",
    "            }"
   ]
  },
  {
   "cell_type": "code",
   "execution_count": 3,
   "metadata": {
    "tags": []
   },
   "outputs": [
    {
     "name": "stderr",
     "output_type": "stream",
     "text": [
      "2022-03-03 16:57:29 [scrapy.utils.log] INFO: Scrapy 2.6.1 started (bot: scrapybot)\n",
      "2022-03-03 16:57:29 [scrapy.utils.log] INFO: Versions: lxml 4.8.0.0, libxml2 2.9.12, cssselect 1.1.0, parsel 1.6.0, w3lib 1.22.0, Twisted 22.2.0, Python 3.9.7 | packaged by conda-forge | (default, Sep 29 2021, 19:20:46) - [GCC 9.4.0], pyOpenSSL 22.0.0 (OpenSSL 1.1.1l  24 Aug 2021), cryptography 36.0.1, Platform Linux-5.4.144+-x86_64-with-glibc2.31\n",
      "2022-03-03 16:57:29 [scrapy.crawler] INFO: Overridden settings:\n",
      "{'AUTOTHROTTLE_ENABLED': True,\n",
      " 'LOG_LEVEL': 20,\n",
      " 'USER_AGENT': 'Mozilla/5.0 (Windows NT 10.0; Win64; x64) AppleWebKit/537.36 '\n",
      "               '(KHTML, like Gecko) Chrome/98.0.4758.102 Safari/537.36'}\n",
      "2022-03-03 16:57:29 [scrapy.extensions.telnet] INFO: Telnet Password: fc0e941eecd62457\n",
      "2022-03-03 16:57:29 [scrapy.middleware] INFO: Enabled extensions:\n",
      "['scrapy.extensions.corestats.CoreStats',\n",
      " 'scrapy.extensions.telnet.TelnetConsole',\n",
      " 'scrapy.extensions.memusage.MemoryUsage',\n",
      " 'scrapy.extensions.feedexport.FeedExporter',\n",
      " 'scrapy.extensions.logstats.LogStats',\n",
      " 'scrapy.extensions.throttle.AutoThrottle']\n",
      "2022-03-03 16:57:29 [scrapy.middleware] INFO: Enabled downloader middlewares:\n",
      "['scrapy.downloadermiddlewares.httpauth.HttpAuthMiddleware',\n",
      " 'scrapy.downloadermiddlewares.downloadtimeout.DownloadTimeoutMiddleware',\n",
      " 'scrapy.downloadermiddlewares.defaultheaders.DefaultHeadersMiddleware',\n",
      " 'scrapy.downloadermiddlewares.useragent.UserAgentMiddleware',\n",
      " 'scrapy.downloadermiddlewares.retry.RetryMiddleware',\n",
      " 'scrapy.downloadermiddlewares.redirect.MetaRefreshMiddleware',\n",
      " 'scrapy.downloadermiddlewares.httpcompression.HttpCompressionMiddleware',\n",
      " 'scrapy.downloadermiddlewares.redirect.RedirectMiddleware',\n",
      " 'scrapy.downloadermiddlewares.cookies.CookiesMiddleware',\n",
      " 'scrapy.downloadermiddlewares.httpproxy.HttpProxyMiddleware',\n",
      " 'scrapy.downloadermiddlewares.stats.DownloaderStats']\n",
      "2022-03-03 16:57:29 [scrapy.middleware] INFO: Enabled spider middlewares:\n",
      "['scrapy.spidermiddlewares.httperror.HttpErrorMiddleware',\n",
      " 'scrapy.spidermiddlewares.offsite.OffsiteMiddleware',\n",
      " 'scrapy.spidermiddlewares.referer.RefererMiddleware',\n",
      " 'scrapy.spidermiddlewares.urllength.UrlLengthMiddleware',\n",
      " 'scrapy.spidermiddlewares.depth.DepthMiddleware']\n",
      "2022-03-03 16:57:29 [scrapy.middleware] INFO: Enabled item pipelines:\n",
      "[]\n",
      "2022-03-03 16:57:29 [scrapy.core.engine] INFO: Spider opened\n",
      "2022-03-03 16:57:29 [scrapy.extensions.logstats] INFO: Crawled 0 pages (at 0 pages/min), scraped 0 items (at 0 items/min)\n",
      "2022-03-03 16:57:29 [scrapy.extensions.telnet] INFO: Telnet console listening on 127.0.0.1:6023\n",
      "2022-03-03 16:57:31 [scrapy.core.scraper] ERROR: Spider error processing <GET https://www.booking.com/city/fr/paris.fr.html> (referer: None)\n",
      "Traceback (most recent call last):\n",
      "  File \"/opt/conda/lib/python3.9/site-packages/twisted/internet/defer.py\", line 857, in _runCallbacks\n",
      "    current.result = callback(  # type: ignore[misc]\n",
      "  File \"/opt/conda/lib/python3.9/site-packages/scrapy/spiders/__init__.py\", line 67, in _parse\n",
      "    return self.parse(response, **kwargs)\n",
      "  File \"/opt/conda/lib/python3.9/site-packages/scrapy/spiders/__init__.py\", line 70, in parse\n",
      "    raise NotImplementedError(f'{self.__class__.__name__}.parse callback is not defined')\n",
      "NotImplementedError: BookingSpider.parse callback is not defined\n",
      "2022-03-03 16:57:31 [scrapy.core.engine] INFO: Closing spider (finished)\n",
      "2022-03-03 16:57:31 [scrapy.statscollectors] INFO: Dumping Scrapy stats:\n",
      "{'downloader/request_bytes': 321,\n",
      " 'downloader/request_count': 1,\n",
      " 'downloader/request_method_count/GET': 1,\n",
      " 'downloader/response_bytes': 145913,\n",
      " 'downloader/response_count': 1,\n",
      " 'downloader/response_status_count/200': 1,\n",
      " 'elapsed_time_seconds': 1.976843,\n",
      " 'finish_reason': 'finished',\n",
      " 'finish_time': datetime.datetime(2022, 3, 3, 16, 57, 31, 469493),\n",
      " 'httpcompression/response_bytes': 768844,\n",
      " 'httpcompression/response_count': 1,\n",
      " 'log_count/ERROR': 1,\n",
      " 'log_count/INFO': 10,\n",
      " 'memusage/max': 96940032,\n",
      " 'memusage/startup': 96940032,\n",
      " 'response_received_count': 1,\n",
      " 'scheduler/dequeued': 1,\n",
      " 'scheduler/dequeued/memory': 1,\n",
      " 'scheduler/enqueued': 1,\n",
      " 'scheduler/enqueued/memory': 1,\n",
      " 'spider_exceptions/NotImplementedError': 1,\n",
      " 'start_time': datetime.datetime(2022, 3, 3, 16, 57, 29, 492650)}\n",
      "2022-03-03 16:57:31 [scrapy.core.engine] INFO: Spider closed (finished)\n"
     ]
    }
   ],
   "source": [
    "# Name of the file where the results will be saved\n",
    "filename = \"hotels-paris.json\"\n",
    "\n",
    "# If file already exists, delete it before crawling (because Scrapy will concatenate the last and new results otherwise)\n",
    "if filename in os.listdir('booking/'):\n",
    "        os.remove('booking/' + filename)\n",
    "\n",
    "# Declare a new CrawlerProcess with some settings\n",
    "process = CrawlerProcess(settings = {\n",
    "    'USER_AGENT': 'Mozilla/5.0 (Windows NT 10.0; Win64; x64) AppleWebKit/537.36 (KHTML, like Gecko) Chrome/98.0.4758.102 Safari/537.36', #changer user \n",
    "    'LOG_LEVEL': logging.INFO,\n",
    "    \"FEEDS\": {\n",
    "        'booking/' + filename : {\"format\": \"json\"},\n",
    "    },\n",
    "    \"AUTOTHROTTLE_ENABLED\": True  # AutoThrottle Here!\n",
    "})\n",
    "\n",
    "# Start the crawling using the spider you defined above\n",
    "process.crawl(BookingSpider)\n",
    "process.start()"
   ]
  },
  {
   "cell_type": "code",
   "execution_count": null,
   "metadata": {},
   "outputs": [],
   "source": [
    "class BookingSpider(scrapy.Spider): #ma classe herite de la class scrapy.Spider? càd elle n'est pas vierge \n",
    "    # Name of your spider\n",
    "    name = \"paris\" #attribut name de la classe Spider \n",
    "\n",
    "    # Url to start your spider from #attribut name de la classe Spider\n",
    "    start_urls = [\n",
    "        'https://www.booking.com/searchresults.fr.html?aid=304142&label=gen173nr-1DCBcoggI46AdIM1gEabooking%20paris2IAQGYAQ24ARfIAQzYAQPoAQGIAgGoAgO4AqDHg5EGwAIB0gIkMGM4OTVmMDktYTdkNy00M2Q1LWEwMmMtNDQ3Y2I1ZGNlOTgx2AIE4AIB&sid=5be3da18843cb0373296f31b70eae6c5&sb=1&src=searchresults&src_elem=sb&error_url=https%3A%2F%2Fwww.booking.com%2Fsearchresults.fr.html%3Faid%3D304142%3Blabel%3Dgen173nr-1DCBcoggI46AdIM1gEaE2IAQGYAQ24ARfIAQzYAQPoAQGIAgGoAgO4AqDHg5EGwAIB0gIkMGM4OTVmMDktYTdkNy00M2Q1LWEwMmMtNDQ3Y2I1ZGNlOTgx2AIE4AIB%3Bsid%3D5be3da18843cb0373296f31b70eae6c5%3Btmpl%3Dsearchresults%3Bac_click_type%3Db%3Bac_position%3D0%3Bcity%3D-2592467%3Bclass_interval%3D1%3Bdest_id%3D-1456928%3Bdest_type%3Dcity%3Bdtdisc%3D0%3Bfrom_sf%3D1%3Bgroup_adults%3D2%3Bgroup_children%3D0%3Biata%3DPAR%3Binac%3D0%3Bindex_postcard%3D0%3Blabel_click%3Dundef%3Bno_rooms%3D1%3Boffset%3D0%3Bpostcard%3D0%3Braw_dest_type%3Dcity%3Broom1%3DA%252CA%3Bsb_price_type%3Dtotal%3Bsearch_selected%3D1%3Bshw_aparth%3D1%3Bslp_r_match%3D0%3Bsrc%3Dsearchresults%3Bsrc_elem%3Dsb%3Bsrpvid%3D31d76fa92eb10499%3Bss%3DParis%252C%2520%25C3%258Ele-de-France%252C%2520France%3Bss_all%3D0%3Bss_raw%3Dparis%3Bssb%3Dempty%3Bsshis%3D0%3Bssne%3DChipping%2520Norton%3Bssne_untouched%3DChipping%2520Norton%26%3B&ss=Paris&is_ski_area=0&ssne=Paris&ssne_untouched=Paris&city=-1456928&checkin_year=&checkin_month=&checkout_year=&checkout_month=&group_adults=2&group_children=0&no_rooms=1&from_sf=1',\n",
    "    ]\n",
    "\n",
    "    # Callback function that will be called when starting your spider\n",
    "    # It will get text, author and tags of the first <div> with class=\"quote\"; \n",
    "    def parse(self, response):  #response est un argument de la méthode parse qui correspond à l'objet soup de BeautifullSoup\n",
    "        quote = response.css('div.datatest-id')\n",
    "        data = { #ma data est rangée expres en dictionnaire qui sera retourné par la method Parse\n",
    "            'name': quote.css('span.text::text').get(),\n",
    "            'description': quote.css('span small.author::text').get(),\n",
    "            'url': quote.css('div.tags a.tag::text').getall(),\n",
    "            'score': quote.css('span small.author::text').get(),\n",
    "            'coordinates': quote.css('span small.author::text').get(),\n",
    "        }\n",
    "        return data"
   ]
  },
  {
   "cell_type": "code",
   "execution_count": null,
   "metadata": {},
   "outputs": [],
   "source": [
    "//*[@id=\"search_results_table\"]/div/div/div/div/div[6]/div[3]/div[1]/div[1]/div/a"
   ]
  },
  {
   "cell_type": "code",
   "execution_count": null,
   "metadata": {},
   "outputs": [],
   "source": [
    "//*[@id=\"c-lp-top-hotels\"]/div[2]/div[4]/div[1] #xpath de la liste des hotels "
   ]
  }
 ],
 "metadata": {
  "kernelspec": {
   "display_name": "Python 3 (ipykernel)",
   "language": "python",
   "name": "python3"
  },
  "language_info": {
   "codemirror_mode": {
    "name": "ipython",
    "version": 3
   },
   "file_extension": ".py",
   "mimetype": "text/x-python",
   "name": "python",
   "nbconvert_exporter": "python",
   "pygments_lexer": "ipython3",
   "version": "3.9.7"
  }
 },
 "nbformat": 4,
 "nbformat_minor": 4
}
